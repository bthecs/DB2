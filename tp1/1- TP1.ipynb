{
 "cells": [
  {
   "cell_type": "markdown",
   "id": "8b6d9ace",
   "metadata": {},
   "source": [
    "# TP1\n",
    "\n",
    "## Repositorios de información"
   ]
  },
  {
   "cell_type": "markdown",
   "id": "98c2e1a9",
   "metadata": {},
   "source": [
    "## Ejercicio 1\n",
    "\n",
    "- Descomprimir el archivo clima.tgz de la carpeta data\n",
    "- Convertir cada archivo a Dataframe y mostrarlo en pantalla"
   ]
  },
  {
   "cell_type": "code",
   "execution_count": null,
   "outputs": [],
   "source": [
    "import pandas as pd\n",
    "import os\n",
    "import tarfile\n",
    "\n",
    "file_name = 'clima.tgz'\n",
    "data_path = 'data/'\n",
    "clima_path = data_path + 'clima/'\n",
    "txt_extension = '.txt'\n",
    "\n",
    "file = tarfile.open(data_path + file_name, 'r')\n",
    "file.extractall(clima_path)\n",
    "file.close()\n",
    "\n",
    "valid_files = [i for i in os.listdir(clima_path) if i.endswith(txt_extension)]\n",
    "\n",
    "for i in valid_files:\n",
    "    dataframe = pd.read_csv(os.path.join(clima_path, i), sep=\"\\t\")\n",
    "    print(f\"FILE NAME: {i} \\n{dataframe}\\n\")\n",
    "\n",
    "\n"
   ],
   "metadata": {
    "collapsed": false,
    "pycharm": {
     "name": "#%%\n"
    }
   }
  },
  {
   "cell_type": "markdown",
   "id": "d8c68ce0",
   "metadata": {},
   "source": [
    "## Ejercicio 2\n",
    "\n",
    "- Obtener de la API de <a href=\"https://wikimedia.org/api/rest_v1/#/Pageviews%20data\">Wikimedia </a> la cantidad de visitas en este año a la página Albert Einstein por día.\n",
    "- Mostrar el Dataframe obtenido por pantalla"
   ]
  },
  {
   "cell_type": "code",
   "execution_count": null,
   "id": "83600ac6",
   "metadata": {},
   "outputs": [],
   "source": [
    "import json\n",
    "\n",
    "import pandas as pd\n",
    "import urllib.request\n",
    "\n",
    "dataframe_head = ['project', 'article', 'granularity', 'timestamp', 'access', 'agent', 'views']\n",
    "url_request = 'https://wikimedia.org/api/rest_v1/metrics/pageviews/per-article/en.wikipedia.org/all-access/all-agents' \\\n",
    "              '/Albert_Einstein/daily/20210101/20210831'\n",
    "\n",
    "response = urllib.request.urlopen(url_request)\n",
    "data = json.loads(response.read())\n",
    "\n",
    "dataframe = pd.DataFrame(data['items'])\n",
    "print(dataframe[dataframe_head])\n"
   ]
  },
  {
   "cell_type": "markdown",
   "id": "89c922c0",
   "metadata": {},
   "source": [
    "## Ejercicio 3\n",
    "\n",
    "- Crear una base de datos MySQL\n",
    "- Crear una tabla que contenga nombre, apellido y teléfono\n",
    "- Obtener de la base de datos la lista de personas ordenada por apellido de forma descendente\n",
    "- Mostrar el Dataframe resultante por pantalla"
   ]
  },
  {
   "cell_type": "code",
   "execution_count": null,
   "id": "369c4d29",
   "metadata": {},
   "outputs": [],
   "source": [
    "from sqlite3.dbapi2 import connect\n",
    "\n",
    "import pandas as pd\n",
    "\n",
    "create_table = 'CREATE TABLE users(first_name text, last_name text, phone text)'\n",
    "\n",
    "person_list = [\n",
    "    ('giancarlo', 'galvarini', '123123'),\n",
    "    ('lautaro', 'gimenez', '123123'),\n",
    "    ('juan pablo', 'garcia', '123123')\n",
    "]\n",
    "\n",
    "conn = connect(database=\"./data/course.db\")\n",
    "cur = conn.cursor()\n",
    "\n",
    "cur.execute(create_table)\n",
    "\n",
    "for i in person_list:\n",
    "    cur.execute(f'insert into users(first_name, last_name, phone) values {i}')\n",
    "\n",
    "conn.commit()\n",
    "\n",
    "response = cur.execute('select * from users order by \"last_name\"')\n",
    "dataframe = pd.DataFrame(response.fetchall())\n",
    "print(dataframe)\n",
    "\n",
    "conn.close()\n"
   ]
  },
  {
   "cell_type": "markdown",
   "id": "3076e5f2",
   "metadata": {},
   "source": [
    "## Ejercicio 4\n",
    "\n",
    "- Obtener de la API <a href=\"https://date.nager.at/swagger/index.html\">Nager.Date</a> las fiestas nacionales argentinas para el 2021\n",
    "- Mostrar el dataframe resultante por pantalla"
   ]
  },
  {
   "cell_type": "code",
   "execution_count": null,
   "id": "6488b350",
   "metadata": {},
   "outputs": [],
   "source": [
    "import pandas as pd\n",
    "\n",
    "import requests\n",
    "\n",
    "url_request = 'https://date.nager.at/api/v2/PublicHolidays/2021/ar'\n",
    "\n",
    "response = requests.get(url_request)\n",
    "data = response.json()\n",
    "\n",
    "dataframe = pd.DataFrame(data)\n",
    "print(dataframe)\n"
   ]
  },
  {
   "cell_type": "markdown",
   "id": "a0f5eb5a",
   "metadata": {},
   "source": [
    "## Ejercicio 5\n",
    "\n",
    "- Obtener una tabla informativa de una página a elección con Web Scrapping\n",
    "- Mostrar el Dataframe resultante por pantalla"
   ]
  },
  {
   "cell_type": "code",
   "execution_count": null,
   "id": "e11056ef",
   "metadata": {},
   "outputs": [],
   "source": [
    "import pandas as pd\n",
    "\n",
    "import requests\n",
    "\n",
    "url_request = 'https://www.thecocktaildb.com/api/json/v1/1/filter.php?g=Cocktail_glass'\n",
    "\n",
    "response = requests.get(url_request)\n",
    "data = response.json()\n",
    "\n",
    "dataframe = pd.DataFrame(data['drinks'])\n",
    "print(dataframe)\n"
   ]
  }
 ],
 "metadata": {
  "kernelspec": {
   "display_name": "Python 3",
   "language": "python",
   "name": "python3"
  },
  "language_info": {
   "codemirror_mode": {
    "name": "ipython",
    "version": 3
   },
   "file_extension": ".py",
   "mimetype": "text/x-python",
   "name": "python",
   "nbconvert_exporter": "python",
   "pygments_lexer": "ipython3",
   "version": "3.7.6"
  }
 },
 "nbformat": 4,
 "nbformat_minor": 5
}
